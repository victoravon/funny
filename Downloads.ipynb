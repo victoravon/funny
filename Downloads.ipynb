{
 "cells": [
  {
   "cell_type": "code",
   "execution_count": 4,
   "id": "243d62f3",
   "metadata": {},
   "outputs": [
    {
     "name": "stdout",
     "output_type": "stream",
     "text": [
      "1\n",
      "1\n",
      "2\n",
      "2\n",
      "1\n",
      "2\n",
      "3\n",
      "1\n",
      "2\n",
      "4\n",
      "1\n",
      "2\n",
      "5\n",
      "1\n",
      "2\n",
      "6\n",
      "1\n",
      "2\n",
      "7\n",
      "1\n",
      "2\n",
      "8\n",
      "1\n",
      "2\n",
      "9\n",
      "1\n",
      "2\n"
     ]
    }
   ],
   "source": [
    "for i in range(1,10):\n",
    "    print(i)\n",
    "    for j in range(1,3):\n",
    "        print(j)"
   ]
  },
  {
   "cell_type": "markdown",
   "id": "13d89059",
   "metadata": {},
   "source": [
    "# *model building*"
   ]
  },
  {
   "cell_type": "markdown",
   "id": "ee401e58",
   "metadata": {},
   "source": []
  },
  {
   "cell_type": "markdown",
   "id": "b4d160f9",
   "metadata": {},
   "source": [
    "# *writing comments in python*\n",
    "\n",
    "Commant la not a python statement and thus is ignored by python Interpreter. But, & is plain tend that documents what the program is and how it is construcied.\n",
    "It is siways good to wile a commend that describes purpose af each statamend included in a program.\n",
    "It Increases readabity of the progrum.\n",
    "I\n",
    "in Python, one can write comments as:\n",
    "1. Single Ene comment starting with a pound (# ign\n",
    "2. Paragraph comment that starts and ends with fires conseculive single quotes (\") or three consecutive double quotes\n",
    "()\n",
    "\n",
    "\n"
   ]
  },
  {
   "cell_type": "markdown",
   "id": "276370d1",
   "metadata": {},
   "source": [
    "# *python keywords*"
   ]
  },
  {
   "cell_type": "markdown",
   "id": "d74cdbd8",
   "metadata": {},
   "source": [
    "Keywords are the pre-defined or bust-in words whose meaning is atready known to python interpreter.\n",
    "Keywords are the reserved words in python\n",
    "We can't use a keyword as variable Tame, function name or any other identifie\n",
    "All the keyworda axcept True, False and None are in lowercase and they must be written as"
   ]
  },
  {
   "cell_type": "markdown",
   "id": "91bb3af0",
   "metadata": {},
   "source": [
    "# *identifiers*\n",
    "\n",
    "Identifers can be a combination of letters in lowercase (a to 2) or uppercase (A to 2) or digits (0 to 9) or an underscore\n",
    "O.\n",
    "2. An identiter cannot start with a digit. 1variable is invalld, but variable is perfectly fine\n",
    "3. Keywords cannot be used as kenthers.\n",
    "4. No special symbol can be used\n",
    "5. An identder can be of any length.\n",
    "Note-1:\n",
    "• Python is a case-sensitive language. This means, the identifiers amount. AMOUNT, and aMouNT are not the same\n",
    "• Aways name identibera that make sense. For axample, num la meaningful compared to x\n",
    "• Multiple words can be separated using an underscore. Ex, compound Intereat\n",
    "• We can also use camal-case style of writing. Le., capitalize every first letter of the word except the initial word wahol spaces. For example: camelCase Examplon"
   ]
  },
  {
   "cell_type": "code",
   "execution_count": 9,
   "id": "dec78ce5",
   "metadata": {},
   "outputs": [],
   "source": [
    "# dummy variable\n",
    "_var1=1"
   ]
  },
  {
   "cell_type": "code",
   "execution_count": 11,
   "id": "61c21ce2",
   "metadata": {},
   "outputs": [],
   "source": [
    "#join 2 variable \n",
    "# var 1+1\n",
    "var_1=1"
   ]
  },
  {
   "cell_type": "code",
   "execution_count": 12,
   "id": "3ee22b2c",
   "metadata": {},
   "outputs": [
    {
     "ename": "SyntaxError",
     "evalue": "invalid syntax (2952611705.py, line 3)",
     "output_type": "error",
     "traceback": [
      "\u001b[1;36m  File \u001b[1;32m\"C:\\Users\\acer\\AppData\\Local\\Temp\\ipykernel_9492\\2952611705.py\"\u001b[1;36m, line \u001b[1;32m3\u001b[0m\n\u001b[1;33m    var2=47.3 \"\"\"change to int\"\"\"\u001b[0m\n\u001b[1;37m              ^\u001b[0m\n\u001b[1;31mSyntaxError\u001b[0m\u001b[1;31m:\u001b[0m invalid syntax\n"
     ]
    }
   ],
   "source": [
    "# preform type caseting\n",
    "var1=55 #change to float\n",
    "var2=47.3 \"\"\"change to int\"\"\"\n",
    "var3=98\"\"\"change to ster\"\"\"\n"
   ]
  }
 ],
 "metadata": {
  "kernelspec": {
   "display_name": "Python 3 (ipykernel)",
   "language": "python",
   "name": "python3"
  },
  "language_info": {
   "codemirror_mode": {
    "name": "ipython",
    "version": 3
   },
   "file_extension": ".py",
   "mimetype": "text/x-python",
   "name": "python",
   "nbconvert_exporter": "python",
   "pygments_lexer": "ipython3",
   "version": "3.9.13"
  }
 },
 "nbformat": 4,
 "nbformat_minor": 5
}
